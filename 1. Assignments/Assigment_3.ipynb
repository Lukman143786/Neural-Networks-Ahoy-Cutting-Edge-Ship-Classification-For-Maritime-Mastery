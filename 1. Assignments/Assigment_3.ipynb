{
  "nbformat": 4,
  "nbformat_minor": 0,
  "metadata": {
    "colab": {
      "provenance": []
    },
    "kernelspec": {
      "name": "python3",
      "display_name": "Python 3"
    },
    "language_info": {
      "name": "python"
    }
  },
  "cells": [
    {
      "cell_type": "code",
      "execution_count": 1,
      "metadata": {
        "id": "jxQrBrMhJQMx"
      },
      "outputs": [],
      "source": [
        "# importing required libraries\n",
        "import pandas as pd\n",
        "import numpy as np\n",
        "import matplotlib.pyplot as plt\n",
        "import seaborn as sns\n",
        "from sklearn.preprocessing import LabelEncoder\n",
        "from sklearn.preprocessing import StandardScaler\n",
        "from sklearn.model_selection import train_test_split\n",
        "from sklearn.linear_model import LinearRegression\n",
        "from sklearn.linear_model import LogisticRegression\n",
        "from sklearn.ensemble import RandomForestClassifier\n",
        "from sklearn.tree import DecisionTreeClassifier\n",
        "from sklearn.neighbors import KNeighborsClassifier\n",
        "from sklearn.svm import SVC\n",
        "from sklearn.metrics import accuracy_score, precision_score, recall_score, f1_score\n"
      ]
    },
    {
      "cell_type": "code",
      "source": [
        "df=pd.read_csv('/content/drug200.xls')"
      ],
      "metadata": {
        "id": "vFaahVTRJiB4"
      },
      "execution_count": 3,
      "outputs": []
    },
    {
      "cell_type": "code",
      "source": [
        "df.head()"
      ],
      "metadata": {
        "colab": {
          "base_uri": "https://localhost:8080/",
          "height": 206
        },
        "id": "8Zez7IXtNs2o",
        "outputId": "61772c75-36e3-4745-9d2b-8d57d8bbcc28"
      },
      "execution_count": 4,
      "outputs": [
        {
          "output_type": "execute_result",
          "data": {
            "text/plain": [
              "   Age Sex      BP Cholesterol  Na_to_K   Drug\n",
              "0   23   F    HIGH        HIGH   25.355  DrugY\n",
              "1   47   M     LOW        HIGH   13.093  drugC\n",
              "2   47   M     LOW        HIGH   10.114  drugC\n",
              "3   28   F  NORMAL        HIGH    7.798  drugX\n",
              "4   61   F     LOW        HIGH   18.043  DrugY"
            ],
            "text/html": [
              "\n",
              "  <div id=\"df-b38cac58-d289-49fb-a911-e603d27fed0a\" class=\"colab-df-container\">\n",
              "    <div>\n",
              "<style scoped>\n",
              "    .dataframe tbody tr th:only-of-type {\n",
              "        vertical-align: middle;\n",
              "    }\n",
              "\n",
              "    .dataframe tbody tr th {\n",
              "        vertical-align: top;\n",
              "    }\n",
              "\n",
              "    .dataframe thead th {\n",
              "        text-align: right;\n",
              "    }\n",
              "</style>\n",
              "<table border=\"1\" class=\"dataframe\">\n",
              "  <thead>\n",
              "    <tr style=\"text-align: right;\">\n",
              "      <th></th>\n",
              "      <th>Age</th>\n",
              "      <th>Sex</th>\n",
              "      <th>BP</th>\n",
              "      <th>Cholesterol</th>\n",
              "      <th>Na_to_K</th>\n",
              "      <th>Drug</th>\n",
              "    </tr>\n",
              "  </thead>\n",
              "  <tbody>\n",
              "    <tr>\n",
              "      <th>0</th>\n",
              "      <td>23</td>\n",
              "      <td>F</td>\n",
              "      <td>HIGH</td>\n",
              "      <td>HIGH</td>\n",
              "      <td>25.355</td>\n",
              "      <td>DrugY</td>\n",
              "    </tr>\n",
              "    <tr>\n",
              "      <th>1</th>\n",
              "      <td>47</td>\n",
              "      <td>M</td>\n",
              "      <td>LOW</td>\n",
              "      <td>HIGH</td>\n",
              "      <td>13.093</td>\n",
              "      <td>drugC</td>\n",
              "    </tr>\n",
              "    <tr>\n",
              "      <th>2</th>\n",
              "      <td>47</td>\n",
              "      <td>M</td>\n",
              "      <td>LOW</td>\n",
              "      <td>HIGH</td>\n",
              "      <td>10.114</td>\n",
              "      <td>drugC</td>\n",
              "    </tr>\n",
              "    <tr>\n",
              "      <th>3</th>\n",
              "      <td>28</td>\n",
              "      <td>F</td>\n",
              "      <td>NORMAL</td>\n",
              "      <td>HIGH</td>\n",
              "      <td>7.798</td>\n",
              "      <td>drugX</td>\n",
              "    </tr>\n",
              "    <tr>\n",
              "      <th>4</th>\n",
              "      <td>61</td>\n",
              "      <td>F</td>\n",
              "      <td>LOW</td>\n",
              "      <td>HIGH</td>\n",
              "      <td>18.043</td>\n",
              "      <td>DrugY</td>\n",
              "    </tr>\n",
              "  </tbody>\n",
              "</table>\n",
              "</div>\n",
              "    <div class=\"colab-df-buttons\">\n",
              "\n",
              "  <div class=\"colab-df-container\">\n",
              "    <button class=\"colab-df-convert\" onclick=\"convertToInteractive('df-b38cac58-d289-49fb-a911-e603d27fed0a')\"\n",
              "            title=\"Convert this dataframe to an interactive table.\"\n",
              "            style=\"display:none;\">\n",
              "\n",
              "  <svg xmlns=\"http://www.w3.org/2000/svg\" height=\"24px\" viewBox=\"0 -960 960 960\">\n",
              "    <path d=\"M120-120v-720h720v720H120Zm60-500h600v-160H180v160Zm220 220h160v-160H400v160Zm0 220h160v-160H400v160ZM180-400h160v-160H180v160Zm440 0h160v-160H620v160ZM180-180h160v-160H180v160Zm440 0h160v-160H620v160Z\"/>\n",
              "  </svg>\n",
              "    </button>\n",
              "\n",
              "  <style>\n",
              "    .colab-df-container {\n",
              "      display:flex;\n",
              "      gap: 12px;\n",
              "    }\n",
              "\n",
              "    .colab-df-convert {\n",
              "      background-color: #E8F0FE;\n",
              "      border: none;\n",
              "      border-radius: 50%;\n",
              "      cursor: pointer;\n",
              "      display: none;\n",
              "      fill: #1967D2;\n",
              "      height: 32px;\n",
              "      padding: 0 0 0 0;\n",
              "      width: 32px;\n",
              "    }\n",
              "\n",
              "    .colab-df-convert:hover {\n",
              "      background-color: #E2EBFA;\n",
              "      box-shadow: 0px 1px 2px rgba(60, 64, 67, 0.3), 0px 1px 3px 1px rgba(60, 64, 67, 0.15);\n",
              "      fill: #174EA6;\n",
              "    }\n",
              "\n",
              "    .colab-df-buttons div {\n",
              "      margin-bottom: 4px;\n",
              "    }\n",
              "\n",
              "    [theme=dark] .colab-df-convert {\n",
              "      background-color: #3B4455;\n",
              "      fill: #D2E3FC;\n",
              "    }\n",
              "\n",
              "    [theme=dark] .colab-df-convert:hover {\n",
              "      background-color: #434B5C;\n",
              "      box-shadow: 0px 1px 3px 1px rgba(0, 0, 0, 0.15);\n",
              "      filter: drop-shadow(0px 1px 2px rgba(0, 0, 0, 0.3));\n",
              "      fill: #FFFFFF;\n",
              "    }\n",
              "  </style>\n",
              "\n",
              "    <script>\n",
              "      const buttonEl =\n",
              "        document.querySelector('#df-b38cac58-d289-49fb-a911-e603d27fed0a button.colab-df-convert');\n",
              "      buttonEl.style.display =\n",
              "        google.colab.kernel.accessAllowed ? 'block' : 'none';\n",
              "\n",
              "      async function convertToInteractive(key) {\n",
              "        const element = document.querySelector('#df-b38cac58-d289-49fb-a911-e603d27fed0a');\n",
              "        const dataTable =\n",
              "          await google.colab.kernel.invokeFunction('convertToInteractive',\n",
              "                                                    [key], {});\n",
              "        if (!dataTable) return;\n",
              "\n",
              "        const docLinkHtml = 'Like what you see? Visit the ' +\n",
              "          '<a target=\"_blank\" href=https://colab.research.google.com/notebooks/data_table.ipynb>data table notebook</a>'\n",
              "          + ' to learn more about interactive tables.';\n",
              "        element.innerHTML = '';\n",
              "        dataTable['output_type'] = 'display_data';\n",
              "        await google.colab.output.renderOutput(dataTable, element);\n",
              "        const docLink = document.createElement('div');\n",
              "        docLink.innerHTML = docLinkHtml;\n",
              "        element.appendChild(docLink);\n",
              "      }\n",
              "    </script>\n",
              "  </div>\n",
              "\n",
              "\n",
              "<div id=\"df-b4120636-fb8e-445b-97b6-41bc1393fad0\">\n",
              "  <button class=\"colab-df-quickchart\" onclick=\"quickchart('df-b4120636-fb8e-445b-97b6-41bc1393fad0')\"\n",
              "            title=\"Suggest charts\"\n",
              "            style=\"display:none;\">\n",
              "\n",
              "<svg xmlns=\"http://www.w3.org/2000/svg\" height=\"24px\"viewBox=\"0 0 24 24\"\n",
              "     width=\"24px\">\n",
              "    <g>\n",
              "        <path d=\"M19 3H5c-1.1 0-2 .9-2 2v14c0 1.1.9 2 2 2h14c1.1 0 2-.9 2-2V5c0-1.1-.9-2-2-2zM9 17H7v-7h2v7zm4 0h-2V7h2v10zm4 0h-2v-4h2v4z\"/>\n",
              "    </g>\n",
              "</svg>\n",
              "  </button>\n",
              "\n",
              "<style>\n",
              "  .colab-df-quickchart {\n",
              "      --bg-color: #E8F0FE;\n",
              "      --fill-color: #1967D2;\n",
              "      --hover-bg-color: #E2EBFA;\n",
              "      --hover-fill-color: #174EA6;\n",
              "      --disabled-fill-color: #AAA;\n",
              "      --disabled-bg-color: #DDD;\n",
              "  }\n",
              "\n",
              "  [theme=dark] .colab-df-quickchart {\n",
              "      --bg-color: #3B4455;\n",
              "      --fill-color: #D2E3FC;\n",
              "      --hover-bg-color: #434B5C;\n",
              "      --hover-fill-color: #FFFFFF;\n",
              "      --disabled-bg-color: #3B4455;\n",
              "      --disabled-fill-color: #666;\n",
              "  }\n",
              "\n",
              "  .colab-df-quickchart {\n",
              "    background-color: var(--bg-color);\n",
              "    border: none;\n",
              "    border-radius: 50%;\n",
              "    cursor: pointer;\n",
              "    display: none;\n",
              "    fill: var(--fill-color);\n",
              "    height: 32px;\n",
              "    padding: 0;\n",
              "    width: 32px;\n",
              "  }\n",
              "\n",
              "  .colab-df-quickchart:hover {\n",
              "    background-color: var(--hover-bg-color);\n",
              "    box-shadow: 0 1px 2px rgba(60, 64, 67, 0.3), 0 1px 3px 1px rgba(60, 64, 67, 0.15);\n",
              "    fill: var(--button-hover-fill-color);\n",
              "  }\n",
              "\n",
              "  .colab-df-quickchart-complete:disabled,\n",
              "  .colab-df-quickchart-complete:disabled:hover {\n",
              "    background-color: var(--disabled-bg-color);\n",
              "    fill: var(--disabled-fill-color);\n",
              "    box-shadow: none;\n",
              "  }\n",
              "\n",
              "  .colab-df-spinner {\n",
              "    border: 2px solid var(--fill-color);\n",
              "    border-color: transparent;\n",
              "    border-bottom-color: var(--fill-color);\n",
              "    animation:\n",
              "      spin 1s steps(1) infinite;\n",
              "  }\n",
              "\n",
              "  @keyframes spin {\n",
              "    0% {\n",
              "      border-color: transparent;\n",
              "      border-bottom-color: var(--fill-color);\n",
              "      border-left-color: var(--fill-color);\n",
              "    }\n",
              "    20% {\n",
              "      border-color: transparent;\n",
              "      border-left-color: var(--fill-color);\n",
              "      border-top-color: var(--fill-color);\n",
              "    }\n",
              "    30% {\n",
              "      border-color: transparent;\n",
              "      border-left-color: var(--fill-color);\n",
              "      border-top-color: var(--fill-color);\n",
              "      border-right-color: var(--fill-color);\n",
              "    }\n",
              "    40% {\n",
              "      border-color: transparent;\n",
              "      border-right-color: var(--fill-color);\n",
              "      border-top-color: var(--fill-color);\n",
              "    }\n",
              "    60% {\n",
              "      border-color: transparent;\n",
              "      border-right-color: var(--fill-color);\n",
              "    }\n",
              "    80% {\n",
              "      border-color: transparent;\n",
              "      border-right-color: var(--fill-color);\n",
              "      border-bottom-color: var(--fill-color);\n",
              "    }\n",
              "    90% {\n",
              "      border-color: transparent;\n",
              "      border-bottom-color: var(--fill-color);\n",
              "    }\n",
              "  }\n",
              "</style>\n",
              "\n",
              "  <script>\n",
              "    async function quickchart(key) {\n",
              "      const quickchartButtonEl =\n",
              "        document.querySelector('#' + key + ' button');\n",
              "      quickchartButtonEl.disabled = true;  // To prevent multiple clicks.\n",
              "      quickchartButtonEl.classList.add('colab-df-spinner');\n",
              "      try {\n",
              "        const charts = await google.colab.kernel.invokeFunction(\n",
              "            'suggestCharts', [key], {});\n",
              "      } catch (error) {\n",
              "        console.error('Error during call to suggestCharts:', error);\n",
              "      }\n",
              "      quickchartButtonEl.classList.remove('colab-df-spinner');\n",
              "      quickchartButtonEl.classList.add('colab-df-quickchart-complete');\n",
              "    }\n",
              "    (() => {\n",
              "      let quickchartButtonEl =\n",
              "        document.querySelector('#df-b4120636-fb8e-445b-97b6-41bc1393fad0 button');\n",
              "      quickchartButtonEl.style.display =\n",
              "        google.colab.kernel.accessAllowed ? 'block' : 'none';\n",
              "    })();\n",
              "  </script>\n",
              "</div>\n",
              "\n",
              "    </div>\n",
              "  </div>\n"
            ],
            "application/vnd.google.colaboratory.intrinsic+json": {
              "type": "dataframe",
              "variable_name": "df",
              "summary": "{\n  \"name\": \"df\",\n  \"rows\": 200,\n  \"fields\": [\n    {\n      \"column\": \"Age\",\n      \"properties\": {\n        \"dtype\": \"number\",\n        \"std\": 16,\n        \"min\": 15,\n        \"max\": 74,\n        \"num_unique_values\": 57,\n        \"samples\": [\n          23,\n          49,\n          37\n        ],\n        \"semantic_type\": \"\",\n        \"description\": \"\"\n      }\n    },\n    {\n      \"column\": \"Sex\",\n      \"properties\": {\n        \"dtype\": \"category\",\n        \"num_unique_values\": 2,\n        \"samples\": [\n          \"M\",\n          \"F\"\n        ],\n        \"semantic_type\": \"\",\n        \"description\": \"\"\n      }\n    },\n    {\n      \"column\": \"BP\",\n      \"properties\": {\n        \"dtype\": \"category\",\n        \"num_unique_values\": 3,\n        \"samples\": [\n          \"HIGH\",\n          \"LOW\"\n        ],\n        \"semantic_type\": \"\",\n        \"description\": \"\"\n      }\n    },\n    {\n      \"column\": \"Cholesterol\",\n      \"properties\": {\n        \"dtype\": \"category\",\n        \"num_unique_values\": 2,\n        \"samples\": [\n          \"NORMAL\",\n          \"HIGH\"\n        ],\n        \"semantic_type\": \"\",\n        \"description\": \"\"\n      }\n    },\n    {\n      \"column\": \"Na_to_K\",\n      \"properties\": {\n        \"dtype\": \"number\",\n        \"std\": 7.223955528459516,\n        \"min\": 6.269,\n        \"max\": 38.247,\n        \"num_unique_values\": 198,\n        \"samples\": [\n          27.05,\n          9.281\n        ],\n        \"semantic_type\": \"\",\n        \"description\": \"\"\n      }\n    },\n    {\n      \"column\": \"Drug\",\n      \"properties\": {\n        \"dtype\": \"category\",\n        \"num_unique_values\": 5,\n        \"samples\": [\n          \"drugC\",\n          \"drugB\"\n        ],\n        \"semantic_type\": \"\",\n        \"description\": \"\"\n      }\n    }\n  ]\n}"
            }
          },
          "metadata": {},
          "execution_count": 4
        }
      ]
    },
    {
      "cell_type": "code",
      "source": [
        "df.info()"
      ],
      "metadata": {
        "colab": {
          "base_uri": "https://localhost:8080/"
        },
        "id": "KNuAnuRQNvM2",
        "outputId": "596c4319-1193-482a-a3ec-b4bf54c2b63b"
      },
      "execution_count": 5,
      "outputs": [
        {
          "output_type": "stream",
          "name": "stdout",
          "text": [
            "<class 'pandas.core.frame.DataFrame'>\n",
            "RangeIndex: 200 entries, 0 to 199\n",
            "Data columns (total 6 columns):\n",
            " #   Column       Non-Null Count  Dtype  \n",
            "---  ------       --------------  -----  \n",
            " 0   Age          200 non-null    int64  \n",
            " 1   Sex          200 non-null    object \n",
            " 2   BP           200 non-null    object \n",
            " 3   Cholesterol  200 non-null    object \n",
            " 4   Na_to_K      200 non-null    float64\n",
            " 5   Drug         200 non-null    object \n",
            "dtypes: float64(1), int64(1), object(4)\n",
            "memory usage: 9.5+ KB\n"
          ]
        }
      ]
    },
    {
      "cell_type": "code",
      "source": [
        "df.describe()"
      ],
      "metadata": {
        "colab": {
          "base_uri": "https://localhost:8080/",
          "height": 300
        },
        "id": "L01dhyMENyOM",
        "outputId": "780d2f39-da4b-40fd-9cae-6d7b1e824eda"
      },
      "execution_count": 6,
      "outputs": [
        {
          "output_type": "execute_result",
          "data": {
            "text/plain": [
              "              Age     Na_to_K\n",
              "count  200.000000  200.000000\n",
              "mean    44.315000   16.084485\n",
              "std     16.544315    7.223956\n",
              "min     15.000000    6.269000\n",
              "25%     31.000000   10.445500\n",
              "50%     45.000000   13.936500\n",
              "75%     58.000000   19.380000\n",
              "max     74.000000   38.247000"
            ],
            "text/html": [
              "\n",
              "  <div id=\"df-ebc8463b-16d3-4134-b1c0-868b0dc517d9\" class=\"colab-df-container\">\n",
              "    <div>\n",
              "<style scoped>\n",
              "    .dataframe tbody tr th:only-of-type {\n",
              "        vertical-align: middle;\n",
              "    }\n",
              "\n",
              "    .dataframe tbody tr th {\n",
              "        vertical-align: top;\n",
              "    }\n",
              "\n",
              "    .dataframe thead th {\n",
              "        text-align: right;\n",
              "    }\n",
              "</style>\n",
              "<table border=\"1\" class=\"dataframe\">\n",
              "  <thead>\n",
              "    <tr style=\"text-align: right;\">\n",
              "      <th></th>\n",
              "      <th>Age</th>\n",
              "      <th>Na_to_K</th>\n",
              "    </tr>\n",
              "  </thead>\n",
              "  <tbody>\n",
              "    <tr>\n",
              "      <th>count</th>\n",
              "      <td>200.000000</td>\n",
              "      <td>200.000000</td>\n",
              "    </tr>\n",
              "    <tr>\n",
              "      <th>mean</th>\n",
              "      <td>44.315000</td>\n",
              "      <td>16.084485</td>\n",
              "    </tr>\n",
              "    <tr>\n",
              "      <th>std</th>\n",
              "      <td>16.544315</td>\n",
              "      <td>7.223956</td>\n",
              "    </tr>\n",
              "    <tr>\n",
              "      <th>min</th>\n",
              "      <td>15.000000</td>\n",
              "      <td>6.269000</td>\n",
              "    </tr>\n",
              "    <tr>\n",
              "      <th>25%</th>\n",
              "      <td>31.000000</td>\n",
              "      <td>10.445500</td>\n",
              "    </tr>\n",
              "    <tr>\n",
              "      <th>50%</th>\n",
              "      <td>45.000000</td>\n",
              "      <td>13.936500</td>\n",
              "    </tr>\n",
              "    <tr>\n",
              "      <th>75%</th>\n",
              "      <td>58.000000</td>\n",
              "      <td>19.380000</td>\n",
              "    </tr>\n",
              "    <tr>\n",
              "      <th>max</th>\n",
              "      <td>74.000000</td>\n",
              "      <td>38.247000</td>\n",
              "    </tr>\n",
              "  </tbody>\n",
              "</table>\n",
              "</div>\n",
              "    <div class=\"colab-df-buttons\">\n",
              "\n",
              "  <div class=\"colab-df-container\">\n",
              "    <button class=\"colab-df-convert\" onclick=\"convertToInteractive('df-ebc8463b-16d3-4134-b1c0-868b0dc517d9')\"\n",
              "            title=\"Convert this dataframe to an interactive table.\"\n",
              "            style=\"display:none;\">\n",
              "\n",
              "  <svg xmlns=\"http://www.w3.org/2000/svg\" height=\"24px\" viewBox=\"0 -960 960 960\">\n",
              "    <path d=\"M120-120v-720h720v720H120Zm60-500h600v-160H180v160Zm220 220h160v-160H400v160Zm0 220h160v-160H400v160ZM180-400h160v-160H180v160Zm440 0h160v-160H620v160ZM180-180h160v-160H180v160Zm440 0h160v-160H620v160Z\"/>\n",
              "  </svg>\n",
              "    </button>\n",
              "\n",
              "  <style>\n",
              "    .colab-df-container {\n",
              "      display:flex;\n",
              "      gap: 12px;\n",
              "    }\n",
              "\n",
              "    .colab-df-convert {\n",
              "      background-color: #E8F0FE;\n",
              "      border: none;\n",
              "      border-radius: 50%;\n",
              "      cursor: pointer;\n",
              "      display: none;\n",
              "      fill: #1967D2;\n",
              "      height: 32px;\n",
              "      padding: 0 0 0 0;\n",
              "      width: 32px;\n",
              "    }\n",
              "\n",
              "    .colab-df-convert:hover {\n",
              "      background-color: #E2EBFA;\n",
              "      box-shadow: 0px 1px 2px rgba(60, 64, 67, 0.3), 0px 1px 3px 1px rgba(60, 64, 67, 0.15);\n",
              "      fill: #174EA6;\n",
              "    }\n",
              "\n",
              "    .colab-df-buttons div {\n",
              "      margin-bottom: 4px;\n",
              "    }\n",
              "\n",
              "    [theme=dark] .colab-df-convert {\n",
              "      background-color: #3B4455;\n",
              "      fill: #D2E3FC;\n",
              "    }\n",
              "\n",
              "    [theme=dark] .colab-df-convert:hover {\n",
              "      background-color: #434B5C;\n",
              "      box-shadow: 0px 1px 3px 1px rgba(0, 0, 0, 0.15);\n",
              "      filter: drop-shadow(0px 1px 2px rgba(0, 0, 0, 0.3));\n",
              "      fill: #FFFFFF;\n",
              "    }\n",
              "  </style>\n",
              "\n",
              "    <script>\n",
              "      const buttonEl =\n",
              "        document.querySelector('#df-ebc8463b-16d3-4134-b1c0-868b0dc517d9 button.colab-df-convert');\n",
              "      buttonEl.style.display =\n",
              "        google.colab.kernel.accessAllowed ? 'block' : 'none';\n",
              "\n",
              "      async function convertToInteractive(key) {\n",
              "        const element = document.querySelector('#df-ebc8463b-16d3-4134-b1c0-868b0dc517d9');\n",
              "        const dataTable =\n",
              "          await google.colab.kernel.invokeFunction('convertToInteractive',\n",
              "                                                    [key], {});\n",
              "        if (!dataTable) return;\n",
              "\n",
              "        const docLinkHtml = 'Like what you see? Visit the ' +\n",
              "          '<a target=\"_blank\" href=https://colab.research.google.com/notebooks/data_table.ipynb>data table notebook</a>'\n",
              "          + ' to learn more about interactive tables.';\n",
              "        element.innerHTML = '';\n",
              "        dataTable['output_type'] = 'display_data';\n",
              "        await google.colab.output.renderOutput(dataTable, element);\n",
              "        const docLink = document.createElement('div');\n",
              "        docLink.innerHTML = docLinkHtml;\n",
              "        element.appendChild(docLink);\n",
              "      }\n",
              "    </script>\n",
              "  </div>\n",
              "\n",
              "\n",
              "<div id=\"df-875da744-1416-4b1b-a9b7-d63c0fd66e16\">\n",
              "  <button class=\"colab-df-quickchart\" onclick=\"quickchart('df-875da744-1416-4b1b-a9b7-d63c0fd66e16')\"\n",
              "            title=\"Suggest charts\"\n",
              "            style=\"display:none;\">\n",
              "\n",
              "<svg xmlns=\"http://www.w3.org/2000/svg\" height=\"24px\"viewBox=\"0 0 24 24\"\n",
              "     width=\"24px\">\n",
              "    <g>\n",
              "        <path d=\"M19 3H5c-1.1 0-2 .9-2 2v14c0 1.1.9 2 2 2h14c1.1 0 2-.9 2-2V5c0-1.1-.9-2-2-2zM9 17H7v-7h2v7zm4 0h-2V7h2v10zm4 0h-2v-4h2v4z\"/>\n",
              "    </g>\n",
              "</svg>\n",
              "  </button>\n",
              "\n",
              "<style>\n",
              "  .colab-df-quickchart {\n",
              "      --bg-color: #E8F0FE;\n",
              "      --fill-color: #1967D2;\n",
              "      --hover-bg-color: #E2EBFA;\n",
              "      --hover-fill-color: #174EA6;\n",
              "      --disabled-fill-color: #AAA;\n",
              "      --disabled-bg-color: #DDD;\n",
              "  }\n",
              "\n",
              "  [theme=dark] .colab-df-quickchart {\n",
              "      --bg-color: #3B4455;\n",
              "      --fill-color: #D2E3FC;\n",
              "      --hover-bg-color: #434B5C;\n",
              "      --hover-fill-color: #FFFFFF;\n",
              "      --disabled-bg-color: #3B4455;\n",
              "      --disabled-fill-color: #666;\n",
              "  }\n",
              "\n",
              "  .colab-df-quickchart {\n",
              "    background-color: var(--bg-color);\n",
              "    border: none;\n",
              "    border-radius: 50%;\n",
              "    cursor: pointer;\n",
              "    display: none;\n",
              "    fill: var(--fill-color);\n",
              "    height: 32px;\n",
              "    padding: 0;\n",
              "    width: 32px;\n",
              "  }\n",
              "\n",
              "  .colab-df-quickchart:hover {\n",
              "    background-color: var(--hover-bg-color);\n",
              "    box-shadow: 0 1px 2px rgba(60, 64, 67, 0.3), 0 1px 3px 1px rgba(60, 64, 67, 0.15);\n",
              "    fill: var(--button-hover-fill-color);\n",
              "  }\n",
              "\n",
              "  .colab-df-quickchart-complete:disabled,\n",
              "  .colab-df-quickchart-complete:disabled:hover {\n",
              "    background-color: var(--disabled-bg-color);\n",
              "    fill: var(--disabled-fill-color);\n",
              "    box-shadow: none;\n",
              "  }\n",
              "\n",
              "  .colab-df-spinner {\n",
              "    border: 2px solid var(--fill-color);\n",
              "    border-color: transparent;\n",
              "    border-bottom-color: var(--fill-color);\n",
              "    animation:\n",
              "      spin 1s steps(1) infinite;\n",
              "  }\n",
              "\n",
              "  @keyframes spin {\n",
              "    0% {\n",
              "      border-color: transparent;\n",
              "      border-bottom-color: var(--fill-color);\n",
              "      border-left-color: var(--fill-color);\n",
              "    }\n",
              "    20% {\n",
              "      border-color: transparent;\n",
              "      border-left-color: var(--fill-color);\n",
              "      border-top-color: var(--fill-color);\n",
              "    }\n",
              "    30% {\n",
              "      border-color: transparent;\n",
              "      border-left-color: var(--fill-color);\n",
              "      border-top-color: var(--fill-color);\n",
              "      border-right-color: var(--fill-color);\n",
              "    }\n",
              "    40% {\n",
              "      border-color: transparent;\n",
              "      border-right-color: var(--fill-color);\n",
              "      border-top-color: var(--fill-color);\n",
              "    }\n",
              "    60% {\n",
              "      border-color: transparent;\n",
              "      border-right-color: var(--fill-color);\n",
              "    }\n",
              "    80% {\n",
              "      border-color: transparent;\n",
              "      border-right-color: var(--fill-color);\n",
              "      border-bottom-color: var(--fill-color);\n",
              "    }\n",
              "    90% {\n",
              "      border-color: transparent;\n",
              "      border-bottom-color: var(--fill-color);\n",
              "    }\n",
              "  }\n",
              "</style>\n",
              "\n",
              "  <script>\n",
              "    async function quickchart(key) {\n",
              "      const quickchartButtonEl =\n",
              "        document.querySelector('#' + key + ' button');\n",
              "      quickchartButtonEl.disabled = true;  // To prevent multiple clicks.\n",
              "      quickchartButtonEl.classList.add('colab-df-spinner');\n",
              "      try {\n",
              "        const charts = await google.colab.kernel.invokeFunction(\n",
              "            'suggestCharts', [key], {});\n",
              "      } catch (error) {\n",
              "        console.error('Error during call to suggestCharts:', error);\n",
              "      }\n",
              "      quickchartButtonEl.classList.remove('colab-df-spinner');\n",
              "      quickchartButtonEl.classList.add('colab-df-quickchart-complete');\n",
              "    }\n",
              "    (() => {\n",
              "      let quickchartButtonEl =\n",
              "        document.querySelector('#df-875da744-1416-4b1b-a9b7-d63c0fd66e16 button');\n",
              "      quickchartButtonEl.style.display =\n",
              "        google.colab.kernel.accessAllowed ? 'block' : 'none';\n",
              "    })();\n",
              "  </script>\n",
              "</div>\n",
              "\n",
              "    </div>\n",
              "  </div>\n"
            ],
            "application/vnd.google.colaboratory.intrinsic+json": {
              "type": "dataframe",
              "summary": "{\n  \"name\": \"df\",\n  \"rows\": 8,\n  \"fields\": [\n    {\n      \"column\": \"Age\",\n      \"properties\": {\n        \"dtype\": \"number\",\n        \"std\": 59.78957628560131,\n        \"min\": 15.0,\n        \"max\": 200.0,\n        \"num_unique_values\": 8,\n        \"samples\": [\n          44.315,\n          45.0,\n          200.0\n        ],\n        \"semantic_type\": \"\",\n        \"description\": \"\"\n      }\n    },\n    {\n      \"column\": \"Na_to_K\",\n      \"properties\": {\n        \"dtype\": \"number\",\n        \"std\": 65.85284973066084,\n        \"min\": 6.269,\n        \"max\": 200.0,\n        \"num_unique_values\": 8,\n        \"samples\": [\n          16.084485,\n          13.9365,\n          200.0\n        ],\n        \"semantic_type\": \"\",\n        \"description\": \"\"\n      }\n    }\n  ]\n}"
            }
          },
          "metadata": {},
          "execution_count": 6
        }
      ]
    },
    {
      "cell_type": "code",
      "source": [
        "df.isnull().sum()"
      ],
      "metadata": {
        "colab": {
          "base_uri": "https://localhost:8080/"
        },
        "id": "a0am7MJlNyTY",
        "outputId": "174faedd-d539-448c-a358-422bde663603"
      },
      "execution_count": 7,
      "outputs": [
        {
          "output_type": "execute_result",
          "data": {
            "text/plain": [
              "Age            0\n",
              "Sex            0\n",
              "BP             0\n",
              "Cholesterol    0\n",
              "Na_to_K        0\n",
              "Drug           0\n",
              "dtype: int64"
            ]
          },
          "metadata": {},
          "execution_count": 7
        }
      ]
    },
    {
      "cell_type": "code",
      "source": [
        "plt.figure(figsize=(12, 10))\n",
        "\n",
        "plt.subplot(2, 2, 1)\n",
        "sns.boxplot(x=df['Age'])\n",
        "plt.title('Box Plot of Age')\n",
        "\n",
        "plt.subplot(2, 2, 2)\n",
        "sns.boxplot(x=df['Na_to_K'])\n",
        "plt.title('Box Plot of Na_to_K')\n",
        "\n",
        "plt.tight_layout()\n",
        "plt.show()\n"
      ],
      "metadata": {
        "colab": {
          "base_uri": "https://localhost:8080/",
          "height": 513
        },
        "id": "vtTvRrTUNyXJ",
        "outputId": "09296416-e992-4998-81c4-914eb7c2961e"
      },
      "execution_count": 8,
      "outputs": [
        {
          "output_type": "display_data",
          "data": {
            "text/plain": [
              "<Figure size 1200x1000 with 2 Axes>"
            ],
            "image/png": "[encoded data removed]"
          },
          "metadata": {}
        }
      ]
    },
    {
      "cell_type": "code",
      "source": [
        "# Calculate the first and third quartiles\n",
        "Q1 = df['Na_to_K'].quantile(0.25)\n",
        "Q3 = df['Na_to_K'].quantile(0.75)\n",
        "\n",
        "# Calculate the interquartile range\n",
        "IQR = Q3 - Q1\n",
        "\n",
        "# Define the multiplier for Tukey's fences\n",
        "k = 1.5\n",
        "\n",
        "# Define the lower and upper bounds using Tukey's fences\n",
        "lower_bound = Q1 - k * IQR\n",
        "upper_bound = Q3 + k * IQR\n",
        "\n",
        "# Find outlier indices\n",
        "outlier_indices = (df['Na_to_K'] < lower_bound) | (df['Na_to_K'] > upper_bound)\n"
      ],
      "metadata": {
        "id": "6Z2E-RTcP8Mn"
      },
      "execution_count": 9,
      "outputs": []
    },
    {
      "cell_type": "code",
      "source": [
        "outliers=outlier_indices.value_counts()\n",
        "outliers"
      ],
      "metadata": {
        "colab": {
          "base_uri": "https://localhost:8080/"
        },
        "id": "3MuPfIyZR7bE",
        "outputId": "54519f14-a325-454b-968e-5d619aeda6d3"
      },
      "execution_count": 10,
      "outputs": [
        {
          "output_type": "execute_result",
          "data": {
            "text/plain": [
              "Na_to_K\n",
              "False    192\n",
              "True       8\n",
              "Name: count, dtype: int64"
            ]
          },
          "metadata": {},
          "execution_count": 10
        }
      ]
    },
    {
      "cell_type": "code",
      "source": [
        "# Replace outliers with the median value\n",
        "median_value = df['Na_to_K'].median()\n",
        "df.loc[outlier_indices, 'Na_to_K'] = median_value"
      ],
      "metadata": {
        "id": "myScV-lWP8O1"
      },
      "execution_count": 12,
      "outputs": []
    },
    {
      "cell_type": "code",
      "source": [
        "sns.boxplot(x=df['Na_to_K'])\n",
        "plt.title('Box Plot of Na_to_K')\n",
        "\n",
        "plt.show()"
      ],
      "metadata": {
        "colab": {
          "base_uri": "https://localhost:8080/",
          "height": 472
        },
        "id": "K6rQshcGP8R7",
        "outputId": "9e16227a-0729-4317-c407-00f8a792ace4"
      },
      "execution_count": 13,
      "outputs": [
        {
          "output_type": "display_data",
          "data": {
            "text/plain": [
              "<Figure size 640x480 with 1 Axes>"
            ],
            "image/png": "[encoded data removed]"
          },
          "metadata": {}
        }
      ]
    },
    {
      "cell_type": "code",
      "source": [
        "df.info()"
      ],
      "metadata": {
        "colab": {
          "base_uri": "https://localhost:8080/"
        },
        "id": "D-cw-ycHP8VH",
        "outputId": "0a781ad6-6da4-4dd4-bfed-499480d1057b"
      },
      "execution_count": 14,
      "outputs": [
        {
          "output_type": "stream",
          "name": "stdout",
          "text": [
            "<class 'pandas.core.frame.DataFrame'>\n",
            "RangeIndex: 200 entries, 0 to 199\n",
            "Data columns (total 6 columns):\n",
            " #   Column       Non-Null Count  Dtype  \n",
            "---  ------       --------------  -----  \n",
            " 0   Age          200 non-null    int64  \n",
            " 1   Sex          200 non-null    object \n",
            " 2   BP           200 non-null    object \n",
            " 3   Cholesterol  200 non-null    object \n",
            " 4   Na_to_K      200 non-null    float64\n",
            " 5   Drug         200 non-null    object \n",
            "dtypes: float64(1), int64(1), object(4)\n",
            "memory usage: 9.5+ KB\n"
          ]
        }
      ]
    },
    {
      "cell_type": "code",
      "source": [
        "le=LabelEncoder()"
      ],
      "metadata": {
        "id": "VUNJv5VPThIo"
      },
      "execution_count": 15,
      "outputs": []
    },
    {
      "cell_type": "code",
      "source": [
        "df['Sex']=le.fit_transform(df['Sex'])\n",
        "df['BP']=le.fit_transform(df['BP'])\n",
        "df['Cholesterol']=le.fit_transform(df['Cholesterol'])"
      ],
      "metadata": {
        "id": "dx7z5F1aTjFx"
      },
      "execution_count": 16,
      "outputs": []
    },
    {
      "cell_type": "code",
      "source": [
        "df['Drug']=le.fit_transform(df['Drug'])"
      ],
      "metadata": {
        "id": "XNz9jhATb2Bz"
      },
      "execution_count": 17,
      "outputs": []
    },
    {
      "cell_type": "code",
      "source": [
        "df.head()"
      ],
      "metadata": {
        "colab": {
          "base_uri": "https://localhost:8080/",
          "height": 206
        },
        "id": "NCNvunzMTtm5",
        "outputId": "d1637980-e6fb-4c0d-988f-28f3b3b56f61"
      },
      "execution_count": 18,
      "outputs": [
        {
          "output_type": "execute_result",
          "data": {
            "text/plain": [
              "   Age  Sex  BP  Cholesterol  Na_to_K  Drug\n",
              "0   23    0   0            0   25.355     0\n",
              "1   47    1   1            0   13.093     3\n",
              "2   47    1   1            0   10.114     3\n",
              "3   28    0   2            0    7.798     4\n",
              "4   61    0   1            0   18.043     0"
            ],
            "text/html": [
              "\n",
              "  <div id=\"df-c53880a7-d0cd-4635-bb77-2bce21091f74\" class=\"colab-df-container\">\n",
              "    <div>\n",
              "<style scoped>\n",
              "    .dataframe tbody tr th:only-of-type {\n",
              "        vertical-align: middle;\n",
              "    }\n",
              "\n",
              "    .dataframe tbody tr th {\n",
              "        vertical-align: top;\n",
              "    }\n",
              "\n",
              "    .dataframe thead th {\n",
              "        text-align: right;\n",
              "    }\n",
              "</style>\n",
              "<table border=\"1\" class=\"dataframe\">\n",
              "  <thead>\n",
              "    <tr style=\"text-align: right;\">\n",
              "      <th></th>\n",
              "      <th>Age</th>\n",
              "      <th>Sex</th>\n",
              "      <th>BP</th>\n",
              "      <th>Cholesterol</th>\n",
              "      <th>Na_to_K</th>\n",
              "      <th>Drug</th>\n",
              "    </tr>\n",
              "  </thead>\n",
              "  <tbody>\n",
              "    <tr>\n",
              "      <th>0</th>\n",
              "      <td>23</td>\n",
              "      <td>0</td>\n",
              "      <td>0</td>\n",
              "      <td>0</td>\n",
              "      <td>25.355</td>\n",
              "      <td>0</td>\n",
              "    </tr>\n",
              "    <tr>\n",
              "      <th>1</th>\n",
              "      <td>47</td>\n",
              "      <td>1</td>\n",
              "      <td>1</td>\n",
              "      <td>0</td>\n",
              "      <td>13.093</td>\n",
              "      <td>3</td>\n",
              "    </tr>\n",
              "    <tr>\n",
              "      <th>2</th>\n",
              "      <td>47</td>\n",
              "      <td>1</td>\n",
              "      <td>1</td>\n",
              "      <td>0</td>\n",
              "      <td>10.114</td>\n",
              "      <td>3</td>\n",
              "    </tr>\n",
              "    <tr>\n",
              "      <th>3</th>\n",
              "      <td>28</td>\n",
              "      <td>0</td>\n",
              "      <td>2</td>\n",
              "      <td>0</td>\n",
              "      <td>7.798</td>\n",
              "      <td>4</td>\n",
              "    </tr>\n",
              "    <tr>\n",
              "      <th>4</th>\n",
              "      <td>61</td>\n",
              "      <td>0</td>\n",
              "      <td>1</td>\n",
              "      <td>0</td>\n",
              "      <td>18.043</td>\n",
              "      <td>0</td>\n",
              "    </tr>\n",
              "  </tbody>\n",
              "</table>\n",
              "</div>\n",
              "    <div class=\"colab-df-buttons\">\n",
              "\n",
              "  <div class=\"colab-df-container\">\n",
              "    <button class=\"colab-df-convert\" onclick=\"convertToInteractive('df-c53880a7-d0cd-4635-bb77-2bce21091f74')\"\n",
              "            title=\"Convert this dataframe to an interactive table.\"\n",
              "            style=\"display:none;\">\n",
              "\n",
              "  <svg xmlns=\"http://www.w3.org/2000/svg\" height=\"24px\" viewBox=\"0 -960 960 960\">\n",
              "    <path d=\"M120-120v-720h720v720H120Zm60-500h600v-160H180v160Zm220 220h160v-160H400v160Zm0 220h160v-160H400v160ZM180-400h160v-160H180v160Zm440 0h160v-160H620v160ZM180-180h160v-160H180v160Zm440 0h160v-160H620v160Z\"/>\n",
              "  </svg>\n",
              "    </button>\n",
              "\n",
              "  <style>\n",
              "    .colab-df-container {\n",
              "      display:flex;\n",
              "      gap: 12px;\n",
              "    }\n",
              "\n",
              "    .colab-df-convert {\n",
              "      background-color: #E8F0FE;\n",
              "      border: none;\n",
              "      border-radius: 50%;\n",
              "      cursor: pointer;\n",
              "      display: none;\n",
              "      fill: #1967D2;\n",
              "      height: 32px;\n",
              "      padding: 0 0 0 0;\n",
              "      width: 32px;\n",
              "    }\n",
              "\n",
              "    .colab-df-convert:hover {\n",
              "      background-color: #E2EBFA;\n",
              "      box-shadow: 0px 1px 2px rgba(60, 64, 67, 0.3), 0px 1px 3px 1px rgba(60, 64, 67, 0.15);\n",
              "      fill: #174EA6;\n",
              "    }\n",
              "\n",
              "    .colab-df-buttons div {\n",
              "      margin-bottom: 4px;\n",
              "    }\n",
              "\n",
              "    [theme=dark] .colab-df-convert {\n",
              "      background-color: #3B4455;\n",
              "      fill: #D2E3FC;\n",
              "    }\n",
              "\n",
              "    [theme=dark] .colab-df-convert:hover {\n",
              "      background-color: #434B5C;\n",
              "      box-shadow: 0px 1px 3px 1px rgba(0, 0, 0, 0.15);\n",
              "      filter: drop-shadow(0px 1px 2px rgba(0, 0, 0, 0.3));\n",
              "      fill: #FFFFFF;\n",
              "    }\n",
              "  </style>\n",
              "\n",
              "    <script>\n",
              "      const buttonEl =\n",
              "        document.querySelector('#df-c53880a7-d0cd-4635-bb77-2bce21091f74 button.colab-df-convert');\n",
              "      buttonEl.style.display =\n",
              "        google.colab.kernel.accessAllowed ? 'block' : 'none';\n",
              "\n",
              "      async function convertToInteractive(key) {\n",
              "        const element = document.querySelector('#df-c53880a7-d0cd-4635-bb77-2bce21091f74');\n",
              "        const dataTable =\n",
              "          await google.colab.kernel.invokeFunction('convertToInteractive',\n",
              "                                                    [key], {});\n",
              "        if (!dataTable) return;\n",
              "\n",
              "        const docLinkHtml = 'Like what you see? Visit the ' +\n",
              "          '<a target=\"_blank\" href=https://colab.research.google.com/notebooks/data_table.ipynb>data table notebook</a>'\n",
              "          + ' to learn more about interactive tables.';\n",
              "        element.innerHTML = '';\n",
              "        dataTable['output_type'] = 'display_data';\n",
              "        await google.colab.output.renderOutput(dataTable, element);\n",
              "        const docLink = document.createElement('div');\n",
              "        docLink.innerHTML = docLinkHtml;\n",
              "        element.appendChild(docLink);\n",
              "      }\n",
              "    </script>\n",
              "  </div>\n",
              "\n",
              "\n",
              "<div id=\"df-70115f6b-7c4a-438a-ad7a-04a7c5b8f7cf\">\n",
              "  <button class=\"colab-df-quickchart\" onclick=\"quickchart('df-70115f6b-7c4a-438a-ad7a-04a7c5b8f7cf')\"\n",
              "            title=\"Suggest charts\"\n",
              "            style=\"display:none;\">\n",
              "\n",
              "<svg xmlns=\"http://www.w3.org/2000/svg\" height=\"24px\"viewBox=\"0 0 24 24\"\n",
              "     width=\"24px\">\n",
              "    <g>\n",
              "        <path d=\"M19 3H5c-1.1 0-2 .9-2 2v14c0 1.1.9 2 2 2h14c1.1 0 2-.9 2-2V5c0-1.1-.9-2-2-2zM9 17H7v-7h2v7zm4 0h-2V7h2v10zm4 0h-2v-4h2v4z\"/>\n",
              "    </g>\n",
              "</svg>\n",
              "  </button>\n",
              "\n",
              "<style>\n",
              "  .colab-df-quickchart {\n",
              "      --bg-color: #E8F0FE;\n",
              "      --fill-color: #1967D2;\n",
              "      --hover-bg-color: #E2EBFA;\n",
              "      --hover-fill-color: #174EA6;\n",
              "      --disabled-fill-color: #AAA;\n",
              "      --disabled-bg-color: #DDD;\n",
              "  }\n",
              "\n",
              "  [theme=dark] .colab-df-quickchart {\n",
              "      --bg-color: #3B4455;\n",
              "      --fill-color: #D2E3FC;\n",
              "      --hover-bg-color: #434B5C;\n",
              "      --hover-fill-color: #FFFFFF;\n",
              "      --disabled-bg-color: #3B4455;\n",
              "      --disabled-fill-color: #666;\n",
              "  }\n",
              "\n",
              "  .colab-df-quickchart {\n",
              "    background-color: var(--bg-color);\n",
              "    border: none;\n",
              "    border-radius: 50%;\n",
              "    cursor: pointer;\n",
              "    display: none;\n",
              "    fill: var(--fill-color);\n",
              "    height: 32px;\n",
              "    padding: 0;\n",
              "    width: 32px;\n",
              "  }\n",
              "\n",
              "  .colab-df-quickchart:hover {\n",
              "    background-color: var(--hover-bg-color);\n",
              "    box-shadow: 0 1px 2px rgba(60, 64, 67, 0.3), 0 1px 3px 1px rgba(60, 64, 67, 0.15);\n",
              "    fill: var(--button-hover-fill-color);\n",
              "  }\n",
              "\n",
              "  .colab-df-quickchart-complete:disabled,\n",
              "  .colab-df-quickchart-complete:disabled:hover {\n",
              "    background-color: var(--disabled-bg-color);\n",
              "    fill: var(--disabled-fill-color);\n",
              "    box-shadow: none;\n",
              "  }\n",
              "\n",
              "  .colab-df-spinner {\n",
              "    border: 2px solid var(--fill-color);\n",
              "    border-color: transparent;\n",
              "    border-bottom-color: var(--fill-color);\n",
              "    animation:\n",
              "      spin 1s steps(1) infinite;\n",
              "  }\n",
              "\n",
              "  @keyframes spin {\n",
              "    0% {\n",
              "      border-color: transparent;\n",
              "      border-bottom-color: var(--fill-color);\n",
              "      border-left-color: var(--fill-color);\n",
              "    }\n",
              "    20% {\n",
              "      border-color: transparent;\n",
              "      border-left-color: var(--fill-color);\n",
              "      border-top-color: var(--fill-color);\n",
              "    }\n",
              "    30% {\n",
              "      border-color: transparent;\n",
              "      border-left-color: var(--fill-color);\n",
              "      border-top-color: var(--fill-color);\n",
              "      border-right-color: var(--fill-color);\n",
              "    }\n",
              "    40% {\n",
              "      border-color: transparent;\n",
              "      border-right-color: var(--fill-color);\n",
              "      border-top-color: var(--fill-color);\n",
              "    }\n",
              "    60% {\n",
              "      border-color: transparent;\n",
              "      border-right-color: var(--fill-color);\n",
              "    }\n",
              "    80% {\n",
              "      border-color: transparent;\n",
              "      border-right-color: var(--fill-color);\n",
              "      border-bottom-color: var(--fill-color);\n",
              "    }\n",
              "    90% {\n",
              "      border-color: transparent;\n",
              "      border-bottom-color: var(--fill-color);\n",
              "    }\n",
              "  }\n",
              "</style>\n",
              "\n",
              "  <script>\n",
              "    async function quickchart(key) {\n",
              "      const quickchartButtonEl =\n",
              "        document.querySelector('#' + key + ' button');\n",
              "      quickchartButtonEl.disabled = true;  // To prevent multiple clicks.\n",
              "      quickchartButtonEl.classList.add('colab-df-spinner');\n",
              "      try {\n",
              "        const charts = await google.colab.kernel.invokeFunction(\n",
              "            'suggestCharts', [key], {});\n",
              "      } catch (error) {\n",
              "        console.error('Error during call to suggestCharts:', error);\n",
              "      }\n",
              "      quickchartButtonEl.classList.remove('colab-df-spinner');\n",
              "      quickchartButtonEl.classList.add('colab-df-quickchart-complete');\n",
              "    }\n",
              "    (() => {\n",
              "      let quickchartButtonEl =\n",
              "        document.querySelector('#df-70115f6b-7c4a-438a-ad7a-04a7c5b8f7cf button');\n",
              "      quickchartButtonEl.style.display =\n",
              "        google.colab.kernel.accessAllowed ? 'block' : 'none';\n",
              "    })();\n",
              "  </script>\n",
              "</div>\n",
              "\n",
              "    </div>\n",
              "  </div>\n"
            ],
            "application/vnd.google.colaboratory.intrinsic+json": {
              "type": "dataframe",
              "variable_name": "df",
              "summary": "{\n  \"name\": \"df\",\n  \"rows\": 200,\n  \"fields\": [\n    {\n      \"column\": \"Age\",\n      \"properties\": {\n        \"dtype\": \"number\",\n        \"std\": 16,\n        \"min\": 15,\n        \"max\": 74,\n        \"num_unique_values\": 57,\n        \"samples\": [\n          23,\n          49,\n          37\n        ],\n        \"semantic_type\": \"\",\n        \"description\": \"\"\n      }\n    },\n    {\n      \"column\": \"Sex\",\n      \"properties\": {\n        \"dtype\": \"number\",\n        \"std\": 0,\n        \"min\": 0,\n        \"max\": 1,\n        \"num_unique_values\": 2,\n        \"samples\": [\n          1,\n          0\n        ],\n        \"semantic_type\": \"\",\n        \"description\": \"\"\n      }\n    },\n    {\n      \"column\": \"BP\",\n      \"properties\": {\n        \"dtype\": \"number\",\n        \"std\": 0,\n        \"min\": 0,\n        \"max\": 2,\n        \"num_unique_values\": 3,\n        \"samples\": [\n          0,\n          1\n        ],\n        \"semantic_type\": \"\",\n        \"description\": \"\"\n      }\n    },\n    {\n      \"column\": \"Cholesterol\",\n      \"properties\": {\n        \"dtype\": \"number\",\n        \"std\": 0,\n        \"min\": 0,\n        \"max\": 1,\n        \"num_unique_values\": 2,\n        \"samples\": [\n          1,\n          0\n        ],\n        \"semantic_type\": \"\",\n        \"description\": \"\"\n      }\n    },\n    {\n      \"column\": \"Na_to_K\",\n      \"properties\": {\n        \"dtype\": \"number\",\n        \"std\": 6.083582570538746,\n        \"min\": 6.269,\n        \"max\": 31.876,\n        \"num_unique_values\": 191,\n        \"samples\": [\n          11.227,\n          20.909\n        ],\n        \"semantic_type\": \"\",\n        \"description\": \"\"\n      }\n    },\n    {\n      \"column\": \"Drug\",\n      \"properties\": {\n        \"dtype\": \"number\",\n        \"std\": 1,\n        \"min\": 0,\n        \"max\": 4,\n        \"num_unique_values\": 5,\n        \"samples\": [\n          3,\n          2\n        ],\n        \"semantic_type\": \"\",\n        \"description\": \"\"\n      }\n    }\n  ]\n}"
            }
          },
          "metadata": {},
          "execution_count": 18
        }
      ]
    },
    {
      "cell_type": "code",
      "source": [
        "x = df.drop(columns=['Drug'])\n",
        "y = df['Drug']"
      ],
      "metadata": {
        "id": "GytzPYmdTv8P"
      },
      "execution_count": 19,
      "outputs": []
    },
    {
      "cell_type": "code",
      "source": [
        "print(x)\n",
        "print('\\n',y)"
      ],
      "metadata": {
        "colab": {
          "base_uri": "https://localhost:8080/"
        },
        "id": "9RtndixRT7NE",
        "outputId": "00a13317-a958-431e-cd9c-c9c7cd54947c"
      },
      "execution_count": 20,
      "outputs": [
        {
          "output_type": "stream",
          "name": "stdout",
          "text": [
            "     Age  Sex  BP  Cholesterol  Na_to_K\n",
            "0     23    0   0            0   25.355\n",
            "1     47    1   1            0   13.093\n",
            "2     47    1   1            0   10.114\n",
            "3     28    0   2            0    7.798\n",
            "4     61    0   1            0   18.043\n",
            "..   ...  ...  ..          ...      ...\n",
            "195   56    0   1            0   11.567\n",
            "196   16    1   1            0   12.006\n",
            "197   52    1   2            0    9.894\n",
            "198   23    1   2            1   14.020\n",
            "199   40    0   1            1   11.349\n",
            "\n",
            "[200 rows x 5 columns]\n",
            "\n",
            " 0      0\n",
            "1      3\n",
            "2      3\n",
            "3      4\n",
            "4      0\n",
            "      ..\n",
            "195    3\n",
            "196    3\n",
            "197    4\n",
            "198    4\n",
            "199    4\n",
            "Name: Drug, Length: 200, dtype: int64\n"
          ]
        }
      ]
    },
    {
      "cell_type": "code",
      "source": [
        "scaler = StandardScaler()"
      ],
      "metadata": {
        "id": "WYkPimarUtpx"
      },
      "execution_count": 21,
      "outputs": []
    },
    {
      "cell_type": "code",
      "source": [
        "x = scaler.fit_transform(x)"
      ],
      "metadata": {
        "id": "rcdN52ZkUyAw"
      },
      "execution_count": 22,
      "outputs": []
    },
    {
      "cell_type": "code",
      "source": [
        "x_train,x_test,y_train,y_test=train_test_split(x,y,test_size=0.2,random_state=0)\n",
        "\n",
        "print(\"Training set X shape:\", x_train.shape)\n",
        "print(\"Training set y shape:\", y_train.shape)\n",
        "print(\"Testing set X shape:\", x_train.shape)\n",
        "print(\"Testing set y shape:\", y_test.shape)\n"
      ],
      "metadata": {
        "colab": {
          "base_uri": "https://localhost:8080/"
        },
        "id": "laVhI5xvUGrc",
        "outputId": "6572da2e-97aa-4eaa-ced5-8760cc541c8d"
      },
      "execution_count": 23,
      "outputs": [
        {
          "output_type": "stream",
          "name": "stdout",
          "text": [
            "Training set X shape: (160, 5)\n",
            "Training set y shape: (160,)\n",
            "Testing set X shape: (160, 5)\n",
            "Testing set y shape: (40,)\n"
          ]
        }
      ]
    },
    {
      "cell_type": "code",
      "source": [
        "from tensorflow.keras.models import Sequential\n",
        "from tensorflow.keras.layers import Dense"
      ],
      "metadata": {
        "id": "MttBCNeZUiOh"
      },
      "execution_count": 24,
      "outputs": []
    },
    {
      "cell_type": "code",
      "source": [
        "#Build the ANN model with (input layer, min 3 hidden layers & output layer)\n",
        "# Build the model\n",
        "model = Sequential()\n",
        "\n",
        "# Add layers\n",
        "model.add(Dense(5, activation='relu', kernel_initializer='random_uniform')) # Input layer\n",
        "model.add(Dense(units=10, activation='relu',kernel_initializer='random_uniform')) # Hidden layer 1\n",
        "model.add(Dense(units=15, activation='relu',kernel_initializer='random_uniform')) # Hidden layer 2\n",
        "model.add(Dense(units=20, activation='relu',kernel_initializer='random_uniform')) # Hidden layer 3\n",
        "\n",
        "# Output layer with 3 units (assuming you have 3 classes for classification)\n",
        "model.add(Dense(units=5, activation='softmax'))"
      ],
      "metadata": {
        "id": "zIfYfyT-VHHK"
      },
      "execution_count": 25,
      "outputs": []
    },
    {
      "cell_type": "code",
      "source": [
        "# Compile the model\n",
        "model.compile(optimizer='adam', loss='sparse_categorical_crossentropy', metrics=['accuracy'])\n"
      ],
      "metadata": {
        "id": "e8hyw9nYWKbZ"
      },
      "execution_count": 26,
      "outputs": []
    },
    {
      "cell_type": "code",
      "source": [
        "#model.fit(x_train, y_train, epochs=5, batch_size=32)\n",
        "model.fit(x_train, y_train, batch_size=32, epochs=100)\n"
      ],
      "metadata": {
        "colab": {
          "base_uri": "https://localhost:8080/"
        },
        "id": "2b9z1eX3WQ0F",
        "outputId": "cecd6fc4-f792-4786-de07-b462d7edbc67"
      },
      "execution_count": 27,
      "outputs": [
        {
          "output_type": "stream",
          "name": "stdout",
          "text": [
            "Epoch 1/100\n",
            "5/5 [==============================] - 1s 6ms/step - loss: 1.6055 - accuracy: 0.4250\n",
            "Epoch 2/100\n",
            "5/5 [==============================] - 0s 5ms/step - loss: 1.5964 - accuracy: 0.4500\n",
            "Epoch 3/100\n",
            "5/5 [==============================] - 0s 5ms/step - loss: 1.5866 - accuracy: 0.4500\n",
            "Epoch 4/100\n",
            "5/5 [==============================] - 0s 5ms/step - loss: 1.5761 - accuracy: 0.4500\n",
            "Epoch 5/100\n",
            "5/5 [==============================] - 0s 5ms/step - loss: 1.5641 - accuracy: 0.4500\n",
            "Epoch 6/100\n",
            "5/5 [==============================] - 0s 5ms/step - loss: 1.5509 - accuracy: 0.4500\n",
            "Epoch 7/100\n",
            "5/5 [==============================] - 0s 6ms/step - loss: 1.5366 - accuracy: 0.4500\n",
            "Epoch 8/100\n",
            "5/5 [==============================] - 0s 5ms/step - loss: 1.5198 - accuracy: 0.4500\n",
            "Epoch 9/100\n",
            "5/5 [==============================] - 0s 4ms/step - loss: 1.5034 - accuracy: 0.4500\n",
            "Epoch 10/100\n",
            "5/5 [==============================] - 0s 5ms/step - loss: 1.4826 - accuracy: 0.4500\n",
            "Epoch 11/100\n",
            "5/5 [==============================] - 0s 5ms/step - loss: 1.4632 - accuracy: 0.4500\n",
            "Epoch 12/100\n",
            "5/5 [==============================] - 0s 5ms/step - loss: 1.4389 - accuracy: 0.4500\n",
            "Epoch 13/100\n",
            "5/5 [==============================] - 0s 5ms/step - loss: 1.4158 - accuracy: 0.4500\n",
            "Epoch 14/100\n",
            "5/5 [==============================] - 0s 5ms/step - loss: 1.3925 - accuracy: 0.4500\n",
            "Epoch 15/100\n",
            "5/5 [==============================] - 0s 5ms/step - loss: 1.3681 - accuracy: 0.4500\n",
            "Epoch 16/100\n",
            "5/5 [==============================] - 0s 5ms/step - loss: 1.3525 - accuracy: 0.4500\n",
            "Epoch 17/100\n",
            "5/5 [==============================] - 0s 6ms/step - loss: 1.3367 - accuracy: 0.4500\n",
            "Epoch 18/100\n",
            "5/5 [==============================] - 0s 6ms/step - loss: 1.3221 - accuracy: 0.4500\n",
            "Epoch 19/100\n",
            "5/5 [==============================] - 0s 5ms/step - loss: 1.3083 - accuracy: 0.4500\n",
            "Epoch 20/100\n",
            "5/5 [==============================] - 0s 5ms/step - loss: 1.2925 - accuracy: 0.4500\n",
            "Epoch 21/100\n",
            "5/5 [==============================] - 0s 5ms/step - loss: 1.2754 - accuracy: 0.4500\n",
            "Epoch 22/100\n",
            "5/5 [==============================] - 0s 4ms/step - loss: 1.2565 - accuracy: 0.4500\n",
            "Epoch 23/100\n",
            "5/5 [==============================] - 0s 4ms/step - loss: 1.2358 - accuracy: 0.4500\n",
            "Epoch 24/100\n",
            "5/5 [==============================] - 0s 5ms/step - loss: 1.2158 - accuracy: 0.4500\n",
            "Epoch 25/100\n",
            "5/5 [==============================] - 0s 4ms/step - loss: 1.1967 - accuracy: 0.4500\n",
            "Epoch 26/100\n",
            "5/5 [==============================] - 0s 5ms/step - loss: 1.1750 - accuracy: 0.4500\n",
            "Epoch 27/100\n",
            "5/5 [==============================] - 0s 5ms/step - loss: 1.1549 - accuracy: 0.4500\n",
            "Epoch 28/100\n",
            "5/5 [==============================] - 0s 5ms/step - loss: 1.1350 - accuracy: 0.4500\n",
            "Epoch 29/100\n",
            "5/5 [==============================] - 0s 9ms/step - loss: 1.1148 - accuracy: 0.4500\n",
            "Epoch 30/100\n",
            "5/5 [==============================] - 0s 5ms/step - loss: 1.0957 - accuracy: 0.4500\n",
            "Epoch 31/100\n",
            "5/5 [==============================] - 0s 5ms/step - loss: 1.0772 - accuracy: 0.4500\n",
            "Epoch 32/100\n",
            "5/5 [==============================] - 0s 4ms/step - loss: 1.0597 - accuracy: 0.4500\n",
            "Epoch 33/100\n",
            "5/5 [==============================] - 0s 6ms/step - loss: 1.0415 - accuracy: 0.4500\n",
            "Epoch 34/100\n",
            "5/5 [==============================] - 0s 5ms/step - loss: 1.0255 - accuracy: 0.4500\n",
            "Epoch 35/100\n",
            "5/5 [==============================] - 0s 6ms/step - loss: 1.0094 - accuracy: 0.4500\n",
            "Epoch 36/100\n",
            "5/5 [==============================] - 0s 6ms/step - loss: 0.9948 - accuracy: 0.4500\n",
            "Epoch 37/100\n",
            "5/5 [==============================] - 0s 5ms/step - loss: 0.9823 - accuracy: 0.4500\n",
            "Epoch 38/100\n",
            "5/5 [==============================] - 0s 5ms/step - loss: 0.9726 - accuracy: 0.4500\n",
            "Epoch 39/100\n",
            "5/5 [==============================] - 0s 5ms/step - loss: 0.9638 - accuracy: 0.4500\n",
            "Epoch 40/100\n",
            "5/5 [==============================] - 0s 4ms/step - loss: 0.9563 - accuracy: 0.4500\n",
            "Epoch 41/100\n",
            "5/5 [==============================] - 0s 5ms/step - loss: 0.9491 - accuracy: 0.4625\n",
            "Epoch 42/100\n",
            "5/5 [==============================] - 0s 4ms/step - loss: 0.9428 - accuracy: 0.4625\n",
            "Epoch 43/100\n",
            "5/5 [==============================] - 0s 5ms/step - loss: 0.9363 - accuracy: 0.4625\n",
            "Epoch 44/100\n",
            "5/5 [==============================] - 0s 5ms/step - loss: 0.9311 - accuracy: 0.4563\n",
            "Epoch 45/100\n",
            "5/5 [==============================] - 0s 5ms/step - loss: 0.9260 - accuracy: 0.4563\n",
            "Epoch 46/100\n",
            "5/5 [==============================] - 0s 5ms/step - loss: 0.9211 - accuracy: 0.4563\n",
            "Epoch 47/100\n",
            "5/5 [==============================] - 0s 4ms/step - loss: 0.9163 - accuracy: 0.4625\n",
            "Epoch 48/100\n",
            "5/5 [==============================] - 0s 5ms/step - loss: 0.9120 - accuracy: 0.4625\n",
            "Epoch 49/100\n",
            "5/5 [==============================] - 0s 5ms/step - loss: 0.9081 - accuracy: 0.4625\n",
            "Epoch 50/100\n",
            "5/5 [==============================] - 0s 4ms/step - loss: 0.9041 - accuracy: 0.4625\n",
            "Epoch 51/100\n",
            "5/5 [==============================] - 0s 6ms/step - loss: 0.9005 - accuracy: 0.4625\n",
            "Epoch 52/100\n",
            "5/5 [==============================] - 0s 5ms/step - loss: 0.8965 - accuracy: 0.4625\n",
            "Epoch 53/100\n",
            "5/5 [==============================] - 0s 5ms/step - loss: 0.8928 - accuracy: 0.4688\n",
            "Epoch 54/100\n",
            "5/5 [==============================] - 0s 5ms/step - loss: 0.8894 - accuracy: 0.4688\n",
            "Epoch 55/100\n",
            "5/5 [==============================] - 0s 5ms/step - loss: 0.8856 - accuracy: 0.4688\n",
            "Epoch 56/100\n",
            "5/5 [==============================] - 0s 6ms/step - loss: 0.8817 - accuracy: 0.4750\n",
            "Epoch 57/100\n",
            "5/5 [==============================] - 0s 6ms/step - loss: 0.8787 - accuracy: 0.4750\n",
            "Epoch 58/100\n",
            "5/5 [==============================] - 0s 6ms/step - loss: 0.8746 - accuracy: 0.4750\n",
            "Epoch 59/100\n",
            "5/5 [==============================] - 0s 5ms/step - loss: 0.8707 - accuracy: 0.4750\n",
            "Epoch 60/100\n",
            "5/5 [==============================] - 0s 5ms/step - loss: 0.8677 - accuracy: 0.4750\n",
            "Epoch 61/100\n",
            "5/5 [==============================] - 0s 7ms/step - loss: 0.8643 - accuracy: 0.4750\n",
            "Epoch 62/100\n",
            "5/5 [==============================] - 0s 5ms/step - loss: 0.8611 - accuracy: 0.4750\n",
            "Epoch 63/100\n",
            "5/5 [==============================] - 0s 5ms/step - loss: 0.8574 - accuracy: 0.4750\n",
            "Epoch 64/100\n",
            "5/5 [==============================] - 0s 5ms/step - loss: 0.8549 - accuracy: 0.4750\n",
            "Epoch 65/100\n",
            "5/5 [==============================] - 0s 5ms/step - loss: 0.8510 - accuracy: 0.4812\n",
            "Epoch 66/100\n",
            "5/5 [==============================] - 0s 6ms/step - loss: 0.8492 - accuracy: 0.4812\n",
            "Epoch 67/100\n",
            "5/5 [==============================] - 0s 5ms/step - loss: 0.8457 - accuracy: 0.4812\n",
            "Epoch 68/100\n",
            "5/5 [==============================] - 0s 5ms/step - loss: 0.8414 - accuracy: 0.4812\n",
            "Epoch 69/100\n",
            "5/5 [==============================] - 0s 5ms/step - loss: 0.8386 - accuracy: 0.4812\n",
            "Epoch 70/100\n",
            "5/5 [==============================] - 0s 5ms/step - loss: 0.8375 - accuracy: 0.4812\n",
            "Epoch 71/100\n",
            "5/5 [==============================] - 0s 5ms/step - loss: 0.8325 - accuracy: 0.4812\n",
            "Epoch 72/100\n",
            "5/5 [==============================] - 0s 4ms/step - loss: 0.8289 - accuracy: 0.4812\n",
            "Epoch 73/100\n",
            "5/5 [==============================] - 0s 6ms/step - loss: 0.8265 - accuracy: 0.4812\n",
            "Epoch 74/100\n",
            "5/5 [==============================] - 0s 5ms/step - loss: 0.8232 - accuracy: 0.4875\n",
            "Epoch 75/100\n",
            "5/5 [==============================] - 0s 6ms/step - loss: 0.8203 - accuracy: 0.4875\n",
            "Epoch 76/100\n",
            "5/5 [==============================] - 0s 6ms/step - loss: 0.8174 - accuracy: 0.4875\n",
            "Epoch 77/100\n",
            "5/5 [==============================] - 0s 6ms/step - loss: 0.8149 - accuracy: 0.4938\n",
            "Epoch 78/100\n",
            "5/5 [==============================] - 0s 5ms/step - loss: 0.8116 - accuracy: 0.5063\n",
            "Epoch 79/100\n",
            "5/5 [==============================] - 0s 6ms/step - loss: 0.8086 - accuracy: 0.5000\n",
            "Epoch 80/100\n",
            "5/5 [==============================] - 0s 6ms/step - loss: 0.8060 - accuracy: 0.5063\n",
            "Epoch 81/100\n",
            "5/5 [==============================] - 0s 5ms/step - loss: 0.8027 - accuracy: 0.5125\n",
            "Epoch 82/100\n",
            "5/5 [==============================] - 0s 5ms/step - loss: 0.8001 - accuracy: 0.5125\n",
            "Epoch 83/100\n",
            "5/5 [==============================] - 0s 5ms/step - loss: 0.7979 - accuracy: 0.6000\n",
            "Epoch 84/100\n",
            "5/5 [==============================] - 0s 5ms/step - loss: 0.7954 - accuracy: 0.6187\n",
            "Epoch 85/100\n",
            "5/5 [==============================] - 0s 5ms/step - loss: 0.7926 - accuracy: 0.6250\n",
            "Epoch 86/100\n",
            "5/5 [==============================] - 0s 4ms/step - loss: 0.7895 - accuracy: 0.6313\n",
            "Epoch 87/100\n",
            "5/5 [==============================] - 0s 4ms/step - loss: 0.7866 - accuracy: 0.6375\n",
            "Epoch 88/100\n",
            "5/5 [==============================] - 0s 5ms/step - loss: 0.7841 - accuracy: 0.6438\n",
            "Epoch 89/100\n",
            "5/5 [==============================] - 0s 5ms/step - loss: 0.7812 - accuracy: 0.6375\n",
            "Epoch 90/100\n",
            "5/5 [==============================] - 0s 5ms/step - loss: 0.7782 - accuracy: 0.6438\n",
            "Epoch 91/100\n",
            "5/5 [==============================] - 0s 5ms/step - loss: 0.7755 - accuracy: 0.6500\n",
            "Epoch 92/100\n",
            "5/5 [==============================] - 0s 8ms/step - loss: 0.7732 - accuracy: 0.6500\n",
            "Epoch 93/100\n",
            "5/5 [==============================] - 0s 6ms/step - loss: 0.7700 - accuracy: 0.6438\n",
            "Epoch 94/100\n",
            "5/5 [==============================] - 0s 6ms/step - loss: 0.7666 - accuracy: 0.6500\n",
            "Epoch 95/100\n",
            "5/5 [==============================] - 0s 5ms/step - loss: 0.7639 - accuracy: 0.6562\n",
            "Epoch 96/100\n",
            "5/5 [==============================] - 0s 5ms/step - loss: 0.7609 - accuracy: 0.6625\n",
            "Epoch 97/100\n",
            "5/5 [==============================] - 0s 5ms/step - loss: 0.7583 - accuracy: 0.6625\n",
            "Epoch 98/100\n",
            "5/5 [==============================] - 0s 5ms/step - loss: 0.7556 - accuracy: 0.6625\n",
            "Epoch 99/100\n",
            "5/5 [==============================] - 0s 5ms/step - loss: 0.7530 - accuracy: 0.6687\n",
            "Epoch 100/100\n",
            "5/5 [==============================] - 0s 5ms/step - loss: 0.7504 - accuracy: 0.6687\n"
          ]
        },
        {
          "output_type": "execute_result",
          "data": {
            "text/plain": [
              "<keras.src.callbacks.History at 0x7b53ac3624a0>"
            ]
          },
          "metadata": {},
          "execution_count": 27
        }
      ]
    },
    {
      "cell_type": "code",
      "source": [
        "pred=model.predict(x_test)"
      ],
      "metadata": {
        "id": "W-UapsiBY8au",
        "colab": {
          "base_uri": "https://localhost:8080/"
        },
        "outputId": "bf770230-3724-463d-edab-d760b24b0f92"
      },
      "execution_count": 28,
      "outputs": [
        {
          "output_type": "stream",
          "name": "stdout",
          "text": [
            "2/2 [==============================] - 0s 6ms/step\n"
          ]
        }
      ]
    },
    {
      "cell_type": "code",
      "source": [
        "pred"
      ],
      "metadata": {
        "id": "i7sQ5D7WY_2v",
        "colab": {
          "base_uri": "https://localhost:8080/"
        },
        "outputId": "fa7c5966-a1d6-40d2-b038-2a93f81f65a8"
      },
      "execution_count": 29,
      "outputs": [
        {
          "output_type": "execute_result",
          "data": {
            "text/plain": [
              "array([[1.49769351e-01, 2.30902880e-01, 2.07156643e-01, 1.91638827e-01,\n",
              "        2.20532373e-01],\n",
              "       [4.72619951e-01, 1.03542628e-02, 8.12812243e-03, 1.02724899e-02,\n",
              "        4.98625189e-01],\n",
              "       [9.78780746e-01, 7.65030946e-16, 1.62406127e-16, 9.68621986e-16,\n",
              "        2.12191269e-02],\n",
              "       [4.66423929e-01, 1.17737968e-02, 9.29903146e-03, 1.16685713e-02,\n",
              "        5.00834644e-01],\n",
              "       [9.75343525e-01, 2.59181875e-15, 5.79339725e-16, 3.24987717e-15,\n",
              "        2.46564187e-02],\n",
              "       [4.01858211e-01, 3.40564251e-02, 2.83079185e-02, 3.34301852e-02,\n",
              "        5.02347171e-01],\n",
              "       [3.41607064e-01, 6.53858259e-02, 5.62530458e-02, 6.37739971e-02,\n",
              "        4.72980052e-01],\n",
              "       [4.36022520e-01, 2.05664635e-02, 1.66766308e-02, 2.02814657e-02,\n",
              "        5.06452858e-01],\n",
              "       [7.01145470e-01, 1.11941836e-05, 6.47719480e-06, 1.17567160e-05,\n",
              "        2.98825055e-01],\n",
              "       [5.44250250e-01, 1.73747900e-03, 1.25726103e-03, 1.75004604e-03,\n",
              "        4.51004982e-01],\n",
              "       [1.49769351e-01, 2.30902880e-01, 2.07156643e-01, 1.91638827e-01,\n",
              "        2.20532373e-01],\n",
              "       [9.99286175e-01, 1.20389592e-27, 8.10303908e-29, 1.88836718e-27,\n",
              "        7.13918242e-04],\n",
              "       [9.95154142e-01, 5.27433461e-21, 6.77348689e-22, 7.33409350e-21,\n",
              "        4.84576309e-03],\n",
              "       [8.83115411e-01, 1.26151456e-09, 4.92319296e-10, 1.42568757e-09,\n",
              "        1.16884649e-01],\n",
              "       [1.49830028e-01, 2.30821237e-01, 2.07054213e-01, 1.91620782e-01,\n",
              "        2.20673576e-01],\n",
              "       [1.49769351e-01, 2.30902880e-01, 2.07156643e-01, 1.91638827e-01,\n",
              "        2.20532373e-01],\n",
              "       [9.99973953e-01, 0.00000000e+00, 0.00000000e+00, 0.00000000e+00,\n",
              "        2.59636181e-05],\n",
              "       [9.83442724e-01, 1.02295362e-16, 1.99403980e-17, 1.31584054e-16,\n",
              "        1.65571421e-02],\n",
              "       [5.72058856e-01, 7.77203066e-04, 5.42481022e-04, 7.88115314e-04,\n",
              "        4.25833404e-01],\n",
              "       [8.61549377e-01, 5.78820680e-09, 2.41189890e-09, 6.46275655e-09,\n",
              "        1.38450652e-01],\n",
              "       [6.45248950e-01, 7.81224953e-05, 4.92438994e-05, 8.07499309e-05,\n",
              "        3.54542911e-01],\n",
              "       [4.29938495e-01, 2.26870831e-02, 1.84828788e-02, 2.23531332e-02,\n",
              "        5.06538391e-01],\n",
              "       [5.37010372e-01, 2.12603877e-03, 1.55249343e-03, 2.13779765e-03,\n",
              "        4.57173377e-01],\n",
              "       [4.62390065e-01, 1.27532259e-02, 1.01092961e-02, 1.26296468e-02,\n",
              "        5.02117753e-01],\n",
              "       [9.99939859e-01, 3.25787104e-36, 9.52949209e-38, 5.96878027e-36,\n",
              "        6.01261490e-05],\n",
              "       [8.82328570e-01, 1.33952582e-09, 5.24125798e-10, 1.51315249e-09,\n",
              "        1.17671520e-01],\n",
              "       [7.89865494e-01, 2.94327265e-07, 1.45290599e-07, 3.18374163e-07,\n",
              "        2.10133806e-01],\n",
              "       [9.99407411e-01, 2.70936695e-28, 1.71182236e-29, 4.29951967e-28,\n",
              "        5.92434546e-04],\n",
              "       [9.96693909e-01, 2.47034481e-22, 2.78709796e-23, 3.51871066e-22,\n",
              "        3.30598350e-03],\n",
              "       [5.58191955e-01, 1.16677454e-03, 8.29313532e-04, 1.17913063e-03,\n",
              "        4.38632905e-01],\n",
              "       [4.56265122e-01, 1.43464394e-02, 1.14348643e-02, 1.41928745e-02,\n",
              "        5.03760636e-01],\n",
              "       [5.11289597e-01, 4.21614805e-03, 3.17627867e-03, 4.21547098e-03,\n",
              "        4.77102607e-01],\n",
              "       [1.49769351e-01, 2.30902880e-01, 2.07156643e-01, 1.91638827e-01,\n",
              "        2.20532373e-01],\n",
              "       [4.92854625e-01, 6.60384959e-03, 5.07739186e-03, 6.57705916e-03,\n",
              "        4.88887012e-01],\n",
              "       [9.99967158e-01, 2.55154786e-38, 0.00000000e+00, 4.85660060e-38,\n",
              "        3.27247290e-05],\n",
              "       [9.81683910e-01, 2.31902771e-16, 4.68036459e-17, 2.96400042e-16,\n",
              "        1.83160603e-02],\n",
              "       [2.88791537e-01, 1.00638099e-01, 8.74406472e-02, 9.62119177e-02,\n",
              "        4.26917762e-01],\n",
              "       [9.01667297e-01, 2.75519912e-10, 1.00757104e-10, 3.15211024e-10,\n",
              "        9.83326063e-02],\n",
              "       [1.49769351e-01, 2.30902880e-01, 2.07156643e-01, 1.91638827e-01,\n",
              "        2.20532373e-01],\n",
              "       [4.86631155e-01, 7.62255630e-03, 5.89942932e-03, 7.58232456e-03,\n",
              "        4.92264479e-01]], dtype=float32)"
            ]
          },
          "metadata": {},
          "execution_count": 29
        }
      ]
    },
    {
      "cell_type": "code",
      "source": [
        "y_test"
      ],
      "metadata": {
        "id": "iRs6VfubZEEW",
        "colab": {
          "base_uri": "https://localhost:8080/"
        },
        "outputId": "222f81ef-0a3b-488e-830f-f814292409d4"
      },
      "execution_count": 30,
      "outputs": [
        {
          "output_type": "execute_result",
          "data": {
            "text/plain": [
              "18     3\n",
              "170    4\n",
              "107    0\n",
              "98     0\n",
              "177    0\n",
              "182    4\n",
              "5      4\n",
              "146    4\n",
              "12     0\n",
              "152    4\n",
              "61     1\n",
              "125    0\n",
              "180    0\n",
              "154    0\n",
              "80     2\n",
              "7      3\n",
              "33     0\n",
              "130    0\n",
              "37     4\n",
              "74     0\n",
              "183    0\n",
              "145    4\n",
              "45     4\n",
              "159    4\n",
              "60     0\n",
              "123    0\n",
              "179    0\n",
              "185    0\n",
              "122    0\n",
              "44     4\n",
              "16     4\n",
              "55     3\n",
              "150    1\n",
              "111    4\n",
              "22     0\n",
              "189    0\n",
              "129    4\n",
              "4      0\n",
              "83     1\n",
              "106    4\n",
              "Name: Drug, dtype: int64"
            ]
          },
          "metadata": {},
          "execution_count": 30
        }
      ]
    },
    {
      "cell_type": "code",
      "source": [
        "pred[2]"
      ],
      "metadata": {
        "id": "ZikD2TbJZEKX",
        "colab": {
          "base_uri": "https://localhost:8080/"
        },
        "outputId": "4889ba5e-cf3f-46d2-abc0-da55bea6d04a"
      },
      "execution_count": 31,
      "outputs": [
        {
          "output_type": "execute_result",
          "data": {
            "text/plain": [
              "array([9.7878075e-01, 7.6503095e-16, 1.6240613e-16, 9.6862199e-16,\n",
              "       2.1219127e-02], dtype=float32)"
            ]
          },
          "metadata": {},
          "execution_count": 31
        }
      ]
    },
    {
      "cell_type": "code",
      "source": [
        "a=np.argmax(pred[2])\n",
        "a"
      ],
      "metadata": {
        "id": "cZFW1a7kZENP",
        "colab": {
          "base_uri": "https://localhost:8080/"
        },
        "outputId": "73b536c5-7a6a-4fa4-bf74-25f2082db92b"
      },
      "execution_count": 32,
      "outputs": [
        {
          "output_type": "execute_result",
          "data": {
            "text/plain": [
              "0"
            ]
          },
          "metadata": {},
          "execution_count": 32
        }
      ]
    },
    {
      "cell_type": "code",
      "source": [
        "b=model.predict((scaler.transform([[1.49311468e-01, 5.06545557e-03, 5.68854064e-03, 2.78492663e-02,8.12085271e-01]])))"
      ],
      "metadata": {
        "colab": {
          "base_uri": "https://localhost:8080/"
        },
        "id": "M_7YQJ3aDTW4",
        "outputId": "4b7c42f9-7aa5-4341-b7b4-80f9ad502282"
      },
      "execution_count": 33,
      "outputs": [
        {
          "output_type": "stream",
          "name": "stdout",
          "text": [
            "1/1 [==============================] - 0s 32ms/step\n"
          ]
        },
        {
          "output_type": "stream",
          "name": "stderr",
          "text": [
            "/usr/local/lib/python3.10/dist-packages/sklearn/base.py:439: UserWarning: X does not have valid feature names, but StandardScaler was fitted with feature names\n",
            "  warnings.warn(\n"
          ]
        }
      ]
    },
    {
      "cell_type": "code",
      "source": [
        "index=['DrugY','drugX','drugA','drugC','drugB']"
      ],
      "metadata": {
        "id": "y6oTlHiJDzko"
      },
      "execution_count": 34,
      "outputs": []
    },
    {
      "cell_type": "code",
      "source": [
        "c=np.argmax(b)"
      ],
      "metadata": {
        "id": "_hI4-2E-D5N6"
      },
      "execution_count": 35,
      "outputs": []
    },
    {
      "cell_type": "code",
      "source": [
        "c"
      ],
      "metadata": {
        "colab": {
          "base_uri": "https://localhost:8080/"
        },
        "id": "Hq7ep2KyD9-d",
        "outputId": "3bf2b959-fa83-49e4-994d-2c7d0487718e"
      },
      "execution_count": 36,
      "outputs": [
        {
          "output_type": "execute_result",
          "data": {
            "text/plain": [
              "1"
            ]
          },
          "metadata": {},
          "execution_count": 36
        }
      ]
    },
    {
      "cell_type": "code",
      "source": [
        "index[c]"
      ],
      "metadata": {
        "colab": {
          "base_uri": "https://localhost:8080/",
          "height": 36
        },
        "id": "Xi3PA60nD-9z",
        "outputId": "2e4f081b-8804-4644-9fb0-3e46e8a2cc26"
      },
      "execution_count": 37,
      "outputs": [
        {
          "output_type": "execute_result",
          "data": {
            "text/plain": [
              "'drugX'"
            ],
            "application/vnd.google.colaboratory.intrinsic+json": {
              "type": "string"
            }
          },
          "metadata": {},
          "execution_count": 37
        }
      ]
    }
  ]
}